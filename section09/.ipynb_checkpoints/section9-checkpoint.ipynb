{
 "cells": [
  {
   "cell_type": "markdown",
   "metadata": {},
   "source": [
    "# 第9章: ベクトル空間法 (I)\n",
    "[enwiki-20150112-400-r10-105752.txt.bz2](http://www.cl.ecei.tohoku.ac.jp/nlp100/data/enwiki-20150112-400-r10-105752.txt.bz2)は，2015年1月12日時点の英語のWikipedia記事のうち，約400語以上で構成される記事の中から，ランダムに1/10サンプリングした105,752記事のテキストをbzip2形式で圧縮したものである．このテキストをコーパスとして，単語の意味を表すベクトル（分散表現）を学習したい．第9章の前半では，コーパスから作成した単語文脈共起行列に主成分分析を適用し，単語ベクトルを学習する過程を，いくつかの処理に分けて実装する．第9章の後半では，学習で得られた単語ベクトル（300次元）を用い，単語の類似度計算やアナロジー（類推）を行う．\n",
    "\n",
    "なお，問題83を素直に実装すると，大量（約7GB）の主記憶が必要になる． メモリが不足する場合は，処理を工夫するか，1/100サンプリングのコーパス[enwiki-20150112-400-r100-10576.txt.bz2](http://www.cl.ecei.tohoku.ac.jp/nlp100/data/enwiki-20150112-400-r100-10576.txt.bz2)を用いよ．"
   ]
  },
  {
   "cell_type": "code",
   "execution_count": 1,
   "metadata": {},
   "outputs": [
    {
     "name": "stdout",
     "output_type": "stream",
     "text": [
      "country.txt                        section9.ipynb\r\n",
      "enwiki-20150112-400-r10-105752.txt token.text\r\n",
      "enwiki-20150112-400-r100-10576.txt token.txt\r\n"
     ]
    }
   ],
   "source": [
    "!ls"
   ]
  },
  {
   "cell_type": "markdown",
   "metadata": {},
   "source": [
    "## 80. コーパスの整形\n",
    "文を単語列に変換する最も単純な方法は，空白文字で単語に区切ることである． ただ，この方法では文末のピリオドや括弧などの記号が単語に含まれてしまう． そこで，コーパスの各行のテキストを空白文字でトークンのリストに分割した後，各トークンに以下の処理を施し，単語から記号を除去せよ．\n",
    "\n",
    "- トークンの先頭と末尾に出現する次の文字を削除: `.,!?;:()[]'\"`\n",
    "- 空文字列となったトークンは削除\n",
    "\n",
    "以上の処理を適用した後，トークンをスペースで連結してファイルに保存せよ．"
   ]
  },
  {
   "cell_type": "code",
   "execution_count": 2,
   "metadata": {},
   "outputs": [],
   "source": [
    "# import re\n",
    "token = []\n",
    "# pattern = r'(.,!?;:()[])?(?P<text>.*?)(.,!?;:()[])'\n",
    "# pattern = r'''[.,!?;:()[]'\"]?((?P<text>.*?)[.,!?;:()[]'\"]|(P<text>.*?))'''\n",
    "# prog = re.compile(pattern)\n",
    "with open(\"enwiki-20150112-400-r100-10576.txt\",'r') as f:\n",
    "    for line in f.readlines():\n",
    "        line = line.strip()\n",
    "        line = line.split(' ')\n",
    "        for l in line:\n",
    "            if len(l) <= 0:\n",
    "                continue\n",
    "            if l[0] in list('''.,!?;:'\"()[]'''):\n",
    "                l = l[1:]\n",
    "            if len(l) <= 0:\n",
    "                continue\n",
    "            if l[-1] in list('''.,!?;:'\"()[]'''):\n",
    "                l = l[:-1]\n",
    "            token.append(l)\n",
    "\n",
    "token = ' '.join(token)"
   ]
  },
  {
   "cell_type": "code",
   "execution_count": 3,
   "metadata": {},
   "outputs": [],
   "source": [
    "with open(\"token.txt\",'w') as f:\n",
    "    f.write(token)"
   ]
  },
  {
   "cell_type": "markdown",
   "metadata": {},
   "source": [
    "## 81. 複合語からなる国名への対処\n",
    "英語では，複数の語の連接が意味を成すことがある．例えば，アメリカ合衆国は\"United States\"，イギリスは\"United Kingdom\"と表現されるが，\"United\"や\"States\"，\"Kingdom\"という単語だけでは，指し示している概念・実体が曖昧である．そこで，コーパス中に含まれる複合語を認識し，複合語を1語として扱うことで，複合語の意味を推定したい．しかしながら，複合語を正確に認定するのは大変むずかしいので，ここでは複合語からなる国名を認定したい．\n",
    "\n",
    "インターネット上から国名リストを各自で入手し，80のコーパス中に出現する複合語の国名に関して，スペースをアンダーバーに置換せよ．例えば，\"United States\"は\"United_States\"，\"Isle of Man\"は\"Isle_of_Man\"になるはずである．"
   ]
  },
  {
   "cell_type": "code",
   "execution_count": 4,
   "metadata": {},
   "outputs": [
    {
     "name": "stdout",
     "output_type": "stream",
     "text": [
      "  % Total    % Received % Xferd  Average Speed   Time    Time     Time  Current\n",
      "                                 Dload  Upload   Total   Spent    Left  Speed\n",
      "100  107k    0  107k    0     0   128k      0 --:--:-- --:--:-- --:--:--  128k\n"
     ]
    }
   ],
   "source": [
    "!curl https://www.benricho.org/translate/countrycode.html > country.txt"
   ]
  },
  {
   "cell_type": "code",
   "execution_count": 5,
   "metadata": {},
   "outputs": [],
   "source": [
    "import bs4\n",
    "with open(\"country.txt\",'r') as f:\n",
    "    soup = bs4.BeautifulSoup(f.read())"
   ]
  },
  {
   "cell_type": "code",
   "execution_count": 6,
   "metadata": {},
   "outputs": [],
   "source": [
    "country = []\n",
    "for tbody in soup.find_all(\"tbody\"):\n",
    "    for tr in tbody.find_all(\"tr\"):\n",
    "        c = tr.find_all(\"td\")[-2].text\n",
    "        if 1 < len(c.split(' ')):\n",
    "            c = c.split('\\n')[0]\n",
    "            country.append(c)"
   ]
  },
  {
   "cell_type": "code",
   "execution_count": 7,
   "metadata": {},
   "outputs": [
    {
     "data": {
      "text/plain": [
       "['United States',\n",
       " 'American Samoa',\n",
       " 'Virgin Islands, U.S.',\n",
       " 'United Arab Emirates',\n",
       " 'Antigua and Barbuda',\n",
       " 'United Kingdom',\n",
       " 'British Indian Ocean Territory',\n",
       " 'Virgin Islands, British',\n",
       " 'Iran, Islamic Republic of',\n",
       " 'El Salvador',\n",
       " 'Aland Islands',\n",
       " 'United States Minor Outlying Islands',\n",
       " 'Cape Verde',\n",
       " 'North Macedonia, Republic of',\n",
       " 'Northern Mariana Islands',\n",
       " 'Cook Islands',\n",
       " 'Christmas Island',\n",
       " 'Cayman Islands',\n",
       " \"Côte d'Ivoire\",\n",
       " 'Cocos (Keeling) Islands',\n",
       " 'Costa Rica',\n",
       " 'Congo, the Democratic Republic of the',\n",
       " 'Saudi Arabia',\n",
       " 'South Georgia and the South Sandwich Islands',\n",
       " 'Sao Tome and Principe',\n",
       " 'Saint Barthélemy',\n",
       " 'Saint Pierre and Miquelon',\n",
       " 'San Marino',\n",
       " 'Saint Martin (French part)',\n",
       " 'Sierra Leone',\n",
       " 'Syrian Arab Republic',\n",
       " 'Sint Maarten (Dutch part)',\n",
       " 'Svalbard and Jan Mayen',\n",
       " 'Sri Lanka',\n",
       " 'Equatorial Guinea',\n",
       " 'Saint Kitts and Nevis',\n",
       " 'Saint Vincent and the Grenadines',\n",
       " 'Saint Helena, Ascension and Tristan da Cunha',\n",
       " 'Saint Lucia',\n",
       " 'Solomon Islands',\n",
       " 'Turks and Caicos Islands',\n",
       " 'Korea, Republic of',\n",
       " 'Taiwan, Province of China',\n",
       " 'Tanzania, United Republic of',\n",
       " 'Czech Republic',\n",
       " 'Central African Republic',\n",
       " \"Korea, Democratic People's Republic of\",\n",
       " 'Dominican Republic',\n",
       " 'Trinidad and Tobago',\n",
       " 'Western Sahara',\n",
       " 'New Caledonia',\n",
       " 'New Zealand',\n",
       " 'Norfolk Island',\n",
       " 'Heard Island and McDonald Islands',\n",
       " 'Holy See (Vatican City State)',\n",
       " 'Papua New Guinea',\n",
       " 'Palestinian Territory, Occupied',\n",
       " 'Bouvet Island',\n",
       " 'Puerto Rico',\n",
       " 'Faroe Islands',\n",
       " 'Falkland Islands (Malvinas)',\n",
       " 'French Guiana',\n",
       " 'French Polynesia',\n",
       " 'French Southern Territories',\n",
       " 'Burkina Faso',\n",
       " 'Brunei Darussalam',\n",
       " 'Viet Nam',\n",
       " 'Bosnia and Herzegovina',\n",
       " 'Bonaire, Saint Eustatius and Saba',\n",
       " 'Bolivia, Plurinational State of',\n",
       " 'Hong Kong',\n",
       " 'Marshall Islands',\n",
       " 'Isle of Man',\n",
       " 'Micronesia, Federated States of',\n",
       " 'South Africa',\n",
       " 'South Sudan',\n",
       " 'Moldova, Republic of',\n",
       " \"Lao People's Democratic Republic\",\n",
       " 'Libyan Arab Jamahiriya',\n",
       " 'Russian Federation',\n",
       " 'Wallis and Futuna',\n",
       " 'Ascension Island',\n",
       " 'Netherlands Antilles',\n",
       " 'Canary Islands',\n",
       " 'Spanish North Africa',\n",
       " 'Diego Garcia',\n",
       " 'State of Hawaii']"
      ]
     },
     "execution_count": 7,
     "metadata": {},
     "output_type": "execute_result"
    }
   ],
   "source": [
    "country"
   ]
  },
  {
   "cell_type": "code",
   "execution_count": 8,
   "metadata": {},
   "outputs": [],
   "source": [
    "# import re\n",
    "for pattern in country[:10]:\n",
    "    token = token.replace(pattern,pattern.replace(\" \",'_'))\n",
    "#     pattern = r'{}'.format(pattern)\n",
    "#     prog = re.compile(pattern)\n",
    "#     token = prog.sub(token,lambda x:x.group().replace(' ','_'))"
   ]
  },
  {
   "cell_type": "markdown",
   "metadata": {},
   "source": [
    "## 82. 文脈の抽出\n",
    "81で作成したコーパス中に出現するすべての単語tに関して，単語tと文脈語cのペアをタブ区切り形式ですべて書き出せ．ただし，文脈語の定義は次の通りとする．\n",
    "\n",
    "ある単語tの前後d単語を文脈語cとして抽出する（ただし，文脈語に単語tそのものは含まない）\n",
    "単語tを選ぶ度に，文脈幅dは{1,2,3,4,5}の範囲でランダムに決める．"
   ]
  },
  {
   "cell_type": "code",
   "execution_count": 9,
   "metadata": {},
   "outputs": [],
   "source": [
    "import  random\n",
    "\n",
    "#tokenのデータが大きいので一部を用いる\n",
    "tmp = token.split(' ')\n",
    "# tmp = tmp[:(len(tmp)//10)]\n",
    "# for i,t in enumerate(tmp):\n",
    "#     d = random.randint(1,5)\n",
    "#     c = [tmp[i+a] for a in range(1,d+1) if i+a < len(tmp)] +  [tmp[i-a] for a in range(1,d+1) if 0<=i-a]\n",
    "#     print(d,end='\\t')\n",
    "#     print(\"t={}\\tc=\".format(t),end='')\n",
    "#     for word in c:\n",
    "#         print(word,end='\\t')\n",
    "#     print()\n",
    "    \n",
    "def context(sentence):\n",
    "    for i,t in enumerate(sentence):\n",
    "        d = random.randint(1,5)\n",
    "        c = [tmp[i+a] for a in range(1,d+1) if i+a < len(tmp)] +  [tmp[i-a] for a in range(1,d+1) if 0<=i-a]\n",
    "        yield d,t,c\n",
    "    \n",
    "# for d,t,c in context(tmp):\n",
    "#     print(\"{}\\tt={}\\tc=\".format(d,t),end='')\n",
    "#     for ct in c:\n",
    "#         print(\"{}\".format(ct),end='\\t')\n",
    "#     print()"
   ]
  },
  {
   "cell_type": "markdown",
   "metadata": {},
   "source": [
    "## 83. 単語／文脈の頻度の計測\n",
    "82の出力を利用し，以下の出現分布，および定数を求めよ．\n",
    "\n",
    "- $f(t,c)$: 単語$t$と文脈語$c$の共起回数\n",
    "- $f(t,∗)$: 単語$t$の出現回数\n",
    "- $f(∗,c)$: 文脈語$c$の出現回数\n",
    "- $N$: 単語と文脈語のペアの総出現回数"
   ]
  },
  {
   "cell_type": "code",
   "execution_count": 10,
   "metadata": {},
   "outputs": [],
   "source": [
    "from collections import defaultdict\n",
    "\n",
    "f_t_c = defaultdict(lambda: defaultdict(int))\n",
    "f_t = defaultdict(int)\n",
    "f_c = defaultdict(int)\n",
    "N = 0\n",
    "f_t_c_set = set()\n",
    "\n",
    "\n",
    "\n",
    "# for i,t in enumerate(tmp):\n",
    "#     f_t[t] += 1\n",
    "#     d = random.randint(1,5)\n",
    "#     c = [tmp[i+a] for a in range(1,d+1) if i+a < len(tmp)] +  [tmp[i-a] for a in range(1,d+1) if 0<=i-a]\n",
    "#     for word in c:\n",
    "#         f_c[word] += 1\n",
    "#         f_t_c[t][word] +=1\n",
    "#         N+=1\n",
    "\n",
    "for _,t,c in context(tmp):\n",
    "    f_t[t] += 1\n",
    "    for word in c:\n",
    "        f_c[word] += 1\n",
    "        f_t_c[t][word] += 1\n",
    "        N += 1\n",
    "        if 10 < f_t_c[t][word]:\n",
    "            f_t_c_set.add((t,c))\n",
    "\n"
   ]
  },
  {
   "cell_type": "markdown",
   "metadata": {},
   "source": [
    "# 84. 単語文脈行列の作成\n",
    "83の出力を利用し，単語文脈行列$X$を作成せよ．ただし，行列$X$の各要素$X_{tc}$は次のように定義する．\n",
    "\n",
    "- $f(t,c)≥10$ならば，$Xtc=\\rm{PPMI}(t,c)=max{logN×f(t,c)f(t,∗)×f(∗,c),0}$\n",
    "- $f(t,c)<10$ならば，$X_{tc}=0$\n",
    "\n",
    "ここで，PPMI(t,c)はPositive Pointwise Mutual Information（正の相互情報量）と呼ばれる統計量である．なお，行列Xの行数・列数は数百万オーダとなり，行列のすべての要素を主記憶上に載せることは無理なので注意すること．幸い，行列Xのほとんどの要素は0になるので，非0の要素だけを書き出せばよい．"
   ]
  },
  {
   "cell_type": "code",
   "execution_count": 11,
   "metadata": {},
   "outputs": [],
   "source": [
    "word_set = set(tmp)\n",
    "s_to_i = dict((s,i) for i,s in enumerate(word_set))\n",
    "i_to_s = dict((i,s) for s,i in s_to_i.items())"
   ]
  },
  {
   "cell_type": "code",
   "execution_count": 12,
   "metadata": {},
   "outputs": [],
   "source": [
    "from scipy.sparse import csr_matrix, lil_matrix\n",
    "\n",
    "# X = lil_matrix( (len(f_t),len(f_c)))\n",
    "X = csr_matrix( (len(f_t),len(f_c)))"
   ]
  },
  {
   "cell_type": "code",
   "execution_count": null,
   "metadata": {},
   "outputs": [
    {
     "name": "stderr",
     "output_type": "stream",
     "text": [
      "/Users/matatabinoneko/.pyenv/versions/anaconda3-5.3.1/envs/深層強化学習/lib/python3.7/site-packages/scipy/sparse/_index.py:69: SparseEfficiencyWarning: Changing the sparsity structure of a csr_matrix is expensive. lil_matrix is more efficient.\n",
      "  self._set_intXint(row, col, x.flat[0])\n"
     ]
    }
   ],
   "source": [
    "import numpy as np\n",
    "for t in f_t_c.keys():\n",
    "    for c in f_t_c[t].keys():\n",
    "        if 10 <= f_t_c[t][c]:\n",
    "            X[s_to_i[t],s_to_i[c]] = max(0,np.log(float(N*f_t_c[t][c]*f_t[t]*f_c[c])))"
   ]
  },
  {
   "cell_type": "markdown",
   "metadata": {},
   "source": [
    "## 85. 主成分分析による次元圧縮\n",
    "84で得られた単語文脈行列に対して，主成分分析を適用し，単語の意味ベクトルを300次元に圧縮せよ．\n"
   ]
  },
  {
   "cell_type": "code",
   "execution_count": null,
   "metadata": {},
   "outputs": [],
   "source": [
    "import numpy as np\n",
    "from sklearn.decomposition import TruncatedSVD\n",
    "svd = TruncatedSVD(n_components=300)\n",
    "feature = svd.fit_transform(X)"
   ]
  },
  {
   "cell_type": "code",
   "execution_count": null,
   "metadata": {},
   "outputs": [],
   "source": [
    "print(feature.shape)"
   ]
  },
  {
   "cell_type": "markdown",
   "metadata": {},
   "source": [
    "## 86. 単語ベクトルの表示\n",
    "85で得た単語の意味ベクトルを読み込み，\"United States\"のベクトルを表示せよ．ただし，\"United States\"は内部的には\"United_States\"と表現されていることに注意せよ．"
   ]
  },
  {
   "cell_type": "code",
   "execution_count": null,
   "metadata": {},
   "outputs": [],
   "source": [
    "def vector(s):\n",
    "    return feature[s_to_i[s]]"
   ]
  },
  {
   "cell_type": "code",
   "execution_count": null,
   "metadata": {},
   "outputs": [],
   "source": [
    "vector(\"United_States\")"
   ]
  },
  {
   "cell_type": "markdown",
   "metadata": {},
   "source": [
    "# 87. 単語の類似度\n",
    "85で得た単語の意味ベクトルを読み込み，\"United States\"と\"U.S.\"のコサイン類似度を計算せよ．ただし，\"U.S.\"は内部的に\"U.S\"と表現されていることに注意せよ．"
   ]
  },
  {
   "cell_type": "code",
   "execution_count": null,
   "metadata": {},
   "outputs": [],
   "source": [
    "def c_similarity(a,b):\n",
    "#     a = feature[s_to_i[a]]\n",
    "#     b = feature[s_to_i[b]]\n",
    "    ret = np.sum(np.array(a)*np.array(b))/(np.linalg.norm(a,ord=2)*np.linalg.norm(b,ord=2))\n",
    "    return ret\n",
    "    "
   ]
  },
  {
   "cell_type": "code",
   "execution_count": null,
   "metadata": {},
   "outputs": [],
   "source": [
    "a = vector(\"United_States\")\n",
    "b = vector(\"U.S.\")\n",
    "print(c_similarity(a,b))"
   ]
  },
  {
   "cell_type": "markdown",
   "metadata": {},
   "source": [
    "# 88. 類似度の高い単語10件\n",
    "85で得た単語の意味ベクトルを読み込み，\"England\"とコサイン類似度が高い10語と，その類似度を出力せよ．"
   ]
  },
  {
   "cell_type": "code",
   "execution_count": null,
   "metadata": {},
   "outputs": [],
   "source": [
    "import heapq as hq\n",
    "def top10(a):\n",
    "    q = list()\n",
    "    hq.heapify(q)\n",
    "    for i in range(len(feature)):\n",
    "        hq.heappush(q,[-1*c_similarity(a,feature[i]),i_to_s[i]])\n",
    "    \n",
    "    for i in range(10):\n",
    "        tmp = hq.heappop(q)\n",
    "        print(-1*tmp[0],tmp[1])"
   ]
  },
  {
   "cell_type": "code",
   "execution_count": null,
   "metadata": {},
   "outputs": [],
   "source": [
    "\n",
    "England = vector(\"England\")\n",
    "print(England[:2])\n",
    "top10(England)"
   ]
  },
  {
   "cell_type": "markdown",
   "metadata": {},
   "source": [
    " # 89. 加法構成性によるアナロジー\n",
    "85で得た単語の意味ベクトルを読み込み，vec(\"Spain\") - vec(\"Madrid\") + vec(\"Athens\")を計算し，そのベクトルと類似度の高い10語とその類似度を出力せよ．"
   ]
  },
  {
   "cell_type": "code",
   "execution_count": null,
   "metadata": {},
   "outputs": [],
   "source": [
    "spain = vector(\"Spain\")\n",
    "madrid = vector(\"Madrid\")\n",
    "athens = vector(\"Athens\")\n",
    "target = spain - madrid + athens"
   ]
  },
  {
   "cell_type": "code",
   "execution_count": null,
   "metadata": {
    "scrolled": true
   },
   "outputs": [],
   "source": [
    "print(target[:2])\n",
    "top10(target)"
   ]
  }
 ],
 "metadata": {
  "kernelspec": {
   "display_name": "Python 3",
   "language": "python",
   "name": "python3"
  },
  "language_info": {
   "codemirror_mode": {
    "name": "ipython",
    "version": 3
   },
   "file_extension": ".py",
   "mimetype": "text/x-python",
   "name": "python",
   "nbconvert_exporter": "python",
   "pygments_lexer": "ipython3",
   "version": "3.7.3"
  }
 },
 "nbformat": 4,
 "nbformat_minor": 2
}
