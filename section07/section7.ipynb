{
 "cells": [
  {
   "cell_type": "markdown",
   "metadata": {},
   "source": [
    "# 第7章: データベース\n",
    "[artist.json.gz](http://www.cl.ecei.tohoku.ac.jp/nlp100/data/artist.json.gz)は，オープンな音楽データベース[MusicBrainz](https://musicbrainz.org/)の中で，アーティストに関するものをJSON形式に変換し，gzip形式で圧縮したファイルである．このファイルには，1アーティストに関する情報が1行にJSON形式で格納されている．JSON形式の概要は以下の通りである．\n",
    "\n",
    "| フィールド| 型 | 内容 | 例 |\n",
    "|:---:|:---:|:---:|:---:|\n",
    "| id | ユニーク識別子 | 整数 | 20660|\n",
    "|gid | グローバル識別子 | 文字列 | \"ecf9f3a3-35e9-4c58-acaa-e707fba45060\"|\n",
    "|name | アーティスト名 | 文字列 | \"Oasis\"|\n",
    "|sort_name | アーティスト名| （辞書順整列用）| 文字列 | \"Oasis\"\n",
    "|area|活動場所|文字列\t|\"United Kingdom\"|\n",
    "|aliases|別名|辞書オブジェクトのリスト|\t\n",
    "|aliases[].name\t|別名\t|文字列\t|\"オアシス\"|\n",
    "|aliases[].sort_name\t|別名（整列用）|\t文字列\t\"オアシス\"|\n",
    "|begin|\t活動開始日\t|辞書\t|\n",
    "|begin.year|\t活動開始年\t|整数\t|1991|\n",
    "|begin.month|\t活動開始月\t|整数\t|\n",
    "|begin.date|\t活動開始日\t|整数\t|\n",
    "|end\t|活動終了日\t|辞書\t|\n",
    "|end.year|\t活動終了年\t|整数\t|2009|\n",
    "|end.month|\t活動終了月\t|整数\t|8|\n",
    "|end.date|\t活動終了日\t|整数|\t28|\n",
    "|tags|\tタグ\t|辞書オブジェクトのリスト|\t\n",
    "|tags[].count|\tタグ付けされた回数\t|整数\t|1|\n",
    "|tags[].value|\tタグ内容\t|文字列\t|\"rock\"|\n",
    "|rating\t|レーティング\t|辞書オブジェクト\t|\n",
    "|rating.count|\tレーティングの投票数\t|整数\t|13|\n",
    "|rating.value|\tレーティングの値（平均値）\t|整数\t|86|\n",
    "\n",
    "artist.json.gzのデータをKey-Value-Store (KVS) およびドキュメント志向型データベースに格納・検索することを考える．KVSとしては，[LevelDB](http://leveldb.org/)，[Redis](http://redis.io/)，[KyotoCabinet](http://fallabs.com/kyotocabinet/)等を用いよ．ドキュメント志向型データベースとして，[MongoDB](http://www.mongodb.org/)を採用したが，[CouchDB](http://couchdb.apache.org/)や[RethinkDB](http://rethinkdb.com/)等を用いてもよい．\n"
   ]
  },
  {
   "cell_type": "markdown",
   "metadata": {},
   "source": [
    "# 60. KVSの構築\n",
    "Key-Value-Store (KVS) を用い，アーティスト名（name）から活動場所（area）を検索するためのデータベースを構築せよ．"
   ]
  },
  {
   "cell_type": "code",
   "execution_count": 5,
   "metadata": {
    "scrolled": true
   },
   "outputs": [],
   "source": [
    "import redis\n",
    "import json\n",
    "\n",
    "pool = redis.ConnectionPool(host='localhost', port=6379, db=0)\n",
    "red = redis.StrictRedis(connection_pool=pool)"
   ]
  },
  {
   "cell_type": "code",
   "execution_count": 6,
   "metadata": {},
   "outputs": [],
   "source": [
    "with open(\"artist.json\",'r') as f:\n",
    "    for line in f.readlines():\n",
    "        data_json = json.loads(line)\n",
    "        name = data_json.get(\"name\")\n",
    "        area = data_json.get(\"area\")\n",
    "        if name is not None and area is not None:\n",
    "            red.sadd(name,area)"
   ]
  },
  {
   "cell_type": "markdown",
   "metadata": {},
   "source": [
    "# 61. KVSの検索\n",
    "60で構築したデータベースを用い，特定の（指定された）アーティストの活動場所を取得せよ．"
   ]
  },
  {
   "cell_type": "code",
   "execution_count": 7,
   "metadata": {
    "scrolled": true
   },
   "outputs": [
    {
     "name": "stdout",
     "output_type": "stream",
     "text": [
      "United Kingdom\n",
      "United States\n"
     ]
    }
   ],
   "source": [
    "for area in red.smembers(\"Oasis\"):\n",
    "    print(area.decode(\"utf-8\"))"
   ]
  },
  {
   "cell_type": "markdown",
   "metadata": {},
   "source": [
    "# 62. KVS内の反復処理\n",
    "60で構築したデータベースを用い，活動場所が「Japan」となっているアーティスト数を求めよ．"
   ]
  },
  {
   "cell_type": "code",
   "execution_count": 8,
   "metadata": {},
   "outputs": [
    {
     "ename": "AttributeError",
     "evalue": "module 'redis' has no attribute 'scan_iter'",
     "output_type": "error",
     "traceback": [
      "\u001b[0;31m---------------------------------------------------------------------------\u001b[0m",
      "\u001b[0;31mAttributeError\u001b[0m                            Traceback (most recent call last)",
      "\u001b[0;32m<timed eval>\u001b[0m in \u001b[0;36m<module>\u001b[0;34m\u001b[0m\n",
      "\u001b[0;31mAttributeError\u001b[0m: module 'redis' has no attribute 'scan_iter'"
     ]
    }
   ],
   "source": [
    "%%time\n",
    "len([key for key in red.scan_iter() if b\"Japan\" in red.smembers(key)])"
   ]
  },
  {
   "cell_type": "code",
   "execution_count": 9,
   "metadata": {},
   "outputs": [
    {
     "name": "stdout",
     "output_type": "stream",
     "text": [
      "CPU times: user 14.5 s, sys: 3.86 s, total: 18.3 s\n",
      "Wall time: 25.8 s\n"
     ]
    },
    {
     "data": {
      "text/plain": [
       "22554"
      ]
     },
     "execution_count": 9,
     "metadata": {},
     "output_type": "execute_result"
    }
   ],
   "source": [
    "%%time\n",
    "len([key for key in red.scan_iter() if red.sismember(key,\"Japan\")==True])"
   ]
  },
  {
   "cell_type": "markdown",
   "metadata": {},
   "source": [
    "# 63. オブジェクトを値に格納したKVS\n",
    "KVSを用い，アーティスト名（name）からタグと被タグ数（タグ付けされた回数）のリストを検索するためのデータベースを構築せよ．さらに，ここで構築したデータベースを用い，アーティスト名からタグと被タグ数を検索せよ．"
   ]
  },
  {
   "cell_type": "code",
   "execution_count": 10,
   "metadata": {},
   "outputs": [],
   "source": [
    "pool = redis.ConnectionPool(host='localhost', port=6379, db=1)\n",
    "red = redis.StrictRedis(connection_pool=pool)"
   ]
  },
  {
   "cell_type": "code",
   "execution_count": 11,
   "metadata": {},
   "outputs": [],
   "source": [
    "with open(\"artist.json\",'r') as f:\n",
    "    for line in f.readlines():\n",
    "        data_json = json.loads(line)\n",
    "        name = data_json.get(\"name\")\n",
    "        tags = data_json.get(\"tags\")\n",
    "#         print(tags)\n",
    "        \n",
    "        \n",
    "        if name is not None and tags is not None:\n",
    "            for tag in tags:\n",
    "#                 print(tag)\n",
    "                value,field = tag.get(\"count\"),tag.get(\"value\")\n",
    "#                 print(name,field,value)\n",
    "                red.hset(name,field,value)"
   ]
  },
  {
   "cell_type": "code",
   "execution_count": 12,
   "metadata": {},
   "outputs": [
    {
     "name": "stdout",
     "output_type": "stream",
     "text": [
      "morning glory 1\n",
      "oasis 1\n",
      "rock 1\n",
      "britpop 3\n",
      "british 4\n",
      "uk 1\n",
      "britannique 1\n",
      "rock and indie 1\n",
      "england 1\n",
      "manchester 1\n"
     ]
    }
   ],
   "source": [
    "for tag,num in red.hgetall(\"Oasis\").items():\n",
    "    print(tag.decode(\"utf-8\"),num.decode(\"utf-8\"))"
   ]
  },
  {
   "cell_type": "markdown",
   "metadata": {},
   "source": [
    "# 64. MongoDBの構築\n",
    "アーティスト情報（artist.json.gz）をデータベースに登録せよ．さらに，次のフィールドでインデックスを作成せよ: name, aliases.name, tags.value, rating.value"
   ]
  },
  {
   "cell_type": "code",
   "execution_count": 51,
   "metadata": {},
   "outputs": [],
   "source": [
    "import json\n",
    "import pymongo\n",
    "from pymongo import MongoClient\n",
    "client = MongoClient('localhost', 27017)\n",
    "db = client.nlp\n",
    "collection = db.nlp_collection\n",
    "# posts = db.posts"
   ]
  },
  {
   "cell_type": "code",
   "execution_count": 10,
   "metadata": {},
   "outputs": [],
   "source": [
    "with open(\"artist.json\",'r') as f:\n",
    "    data_json = [json.loads(line) for line in f.readlines()]\n",
    "#     line=f.readlines()\n",
    "#     data_json = json.loads(line)\n",
    "\n",
    "    collection.insert_many(data_json)"
   ]
  },
  {
   "cell_type": "code",
   "execution_count": 17,
   "metadata": {},
   "outputs": [
    {
     "data": {
      "text/plain": [
       "'rating.value_1'"
      ]
     },
     "execution_count": 17,
     "metadata": {},
     "output_type": "execute_result"
    }
   ],
   "source": [
    "\n",
    "collection.create_index(\"name\")\n",
    "collection.create_index(\"aliases.name\")\n",
    "collection.create_index(\"tags.value\")\n",
    "collection.create_index(\"rating.value\")\n"
   ]
  },
  {
   "cell_type": "code",
   "execution_count": 25,
   "metadata": {},
   "outputs": [
    {
     "name": "stdout",
     "output_type": "stream",
     "text": [
      "{'_id': ObjectId('5dfd719f2397a460485e8781'), 'name': 'Oasis', 'aliases': ['OASIS', 'オアシス'], 'tags': ['rock', 'britpop', 'british', 'uk', 'britannique', 'rock and indie', 'england', 'manchester'], 'rating': 86}\n"
     ]
    }
   ],
   "source": [
    "# for result in posts.find():\n",
    "#     print(result)\n",
    "print(posts.find_one({\"name\":\"Oasis\"}))"
   ]
  },
  {
   "cell_type": "code",
   "execution_count": 97,
   "metadata": {},
   "outputs": [],
   "source": [
    "# posts.find_one({\"_id\": post_id})"
   ]
  },
  {
   "cell_type": "markdown",
   "metadata": {},
   "source": [
    "# 65. MongoDBの検索\n",
    "MongoDBのインタラクティブシェルを用いて，\"Queen\"というアーティストに関する情報を取得せよ．さらに，これと同様の処理を行うプログラムを実装せよ．"
   ]
  },
  {
   "cell_type": "code",
   "execution_count": 24,
   "metadata": {},
   "outputs": [
    {
     "name": "stdout",
     "output_type": "stream",
     "text": [
      "{'_id': ObjectId('5e2158c7399f5fad57a884f5'), 'name': 'Queen', 'area': 'Japan', 'gender': 'Female', 'tags': [{'count': 1, 'value': 'kamen rider w'}, {'count': 1, 'value': 'related-akb48'}], 'sort_name': 'Queen', 'ended': True, 'gid': '420ca290-76c5-41af-999e-564d7c71f1a7', 'type': 'Character', 'id': 701492, 'aliases': [{'name': 'Queen', 'sort_name': 'Queen'}]}\n",
      "{'_id': ObjectId('5e2158c7399f5fad57a94ba1'), 'rating': {'count': 24, 'value': 92}, 'begin': {'date': 27, 'month': 6, 'year': 1970}, 'name': 'Queen', 'area': 'United Kingdom', 'tags': [{'count': 2, 'value': 'hard rock'}, {'count': 1, 'value': '70s'}, {'count': 1, 'value': 'queen family'}, {'count': 1, 'value': '90s'}, {'count': 1, 'value': '80s'}, {'count': 1, 'value': 'glam rock'}, {'count': 4, 'value': 'british'}, {'count': 1, 'value': 'english'}, {'count': 2, 'value': 'uk'}, {'count': 1, 'value': 'pop/rock'}, {'count': 1, 'value': 'pop-rock'}, {'count': 1, 'value': 'britannique'}, {'count': 1, 'value': 'classic pop and rock'}, {'count': 1, 'value': 'queen'}, {'count': 1, 'value': 'united kingdom'}, {'count': 1, 'value': 'langham 1 studio bbc'}, {'count': 1, 'value': 'kind of magic'}, {'count': 1, 'value': 'band'}, {'count': 6, 'value': 'rock'}, {'count': 1, 'value': 'platinum'}], 'sort_name': 'Queen', 'ended': True, 'gid': '0383dadf-2a4e-4d10-a46a-e9e041da8eb3', 'type': 'Group', 'id': 192, 'aliases': [{'name': '女王', 'sort_name': '女王'}]}\n",
      "{'_id': ObjectId('5e2158c8399f5fad57ab05f9'), 'ended': True, 'gid': '5eecaf18-02ec-47af-a4f2-7831db373419', 'sort_name': 'Queen', 'id': 992994, 'name': 'Queen'}\n"
     ]
    }
   ],
   "source": [
    "for name in collection.find({\"name\":\"Queen\"}):\n",
    "    print(name)"
   ]
  },
  {
   "cell_type": "markdown",
   "metadata": {},
   "source": [
    "# 66. 検索件数の取得\n",
    "MongoDBのインタラクティブシェルを用いて，活動場所が「Japan」となっているアーティスト数を求めよ．"
   ]
  },
  {
   "cell_type": "code",
   "execution_count": 39,
   "metadata": {},
   "outputs": [
    {
     "name": "stderr",
     "output_type": "stream",
     "text": [
      "/Users/matatabinoneko/.pyenv/versions/anaconda3-5.3.1/envs/深層強化学習/lib/python3.7/site-packages/ipykernel_launcher.py:1: DeprecationWarning: count is deprecated. Use Collection.count_documents instead.\n",
      "  \"\"\"Entry point for launching an IPython kernel.\n"
     ]
    },
    {
     "name": "stdout",
     "output_type": "stream",
     "text": [
      "22821\n"
     ]
    }
   ],
   "source": [
    "#!db.nlp_collection.find({\"area\":\"Japan\"}).count()\n",
    "print(collection.find({\"area\":\"Japan\"}).count())"
   ]
  },
  {
   "cell_type": "markdown",
   "metadata": {},
   "source": [
    "# 67. 複数のドキュメントの取得\n",
    "特定の（指定した）別名を持つアーティストを検索せよ．"
   ]
  },
  {
   "cell_type": "code",
   "execution_count": 46,
   "metadata": {
    "scrolled": true
   },
   "outputs": [
    {
     "name": "stdout",
     "output_type": "stream",
     "text": [
      "{'_id': ObjectId('5e2158c7399f5fad57a94ba1'), 'rating': {'count': 24, 'value': 92}, 'begin': {'date': 27, 'month': 6, 'year': 1970}, 'name': 'Queen', 'area': 'United Kingdom', 'tags': [{'count': 2, 'value': 'hard rock'}, {'count': 1, 'value': '70s'}, {'count': 1, 'value': 'queen family'}, {'count': 1, 'value': '90s'}, {'count': 1, 'value': '80s'}, {'count': 1, 'value': 'glam rock'}, {'count': 4, 'value': 'british'}, {'count': 1, 'value': 'english'}, {'count': 2, 'value': 'uk'}, {'count': 1, 'value': 'pop/rock'}, {'count': 1, 'value': 'pop-rock'}, {'count': 1, 'value': 'britannique'}, {'count': 1, 'value': 'classic pop and rock'}, {'count': 1, 'value': 'queen'}, {'count': 1, 'value': 'united kingdom'}, {'count': 1, 'value': 'langham 1 studio bbc'}, {'count': 1, 'value': 'kind of magic'}, {'count': 1, 'value': 'band'}, {'count': 6, 'value': 'rock'}, {'count': 1, 'value': 'platinum'}], 'sort_name': 'Queen', 'ended': True, 'gid': '0383dadf-2a4e-4d10-a46a-e9e041da8eb3', 'type': 'Group', 'id': 192, 'aliases': [{'name': '女王', 'sort_name': '女王'}]}\n"
     ]
    }
   ],
   "source": [
    "another_name = \"女王\"\n",
    "for a in collection.find({\"aliases.name\":another_name}):\n",
    "    print(a)"
   ]
  },
  {
   "cell_type": "markdown",
   "metadata": {},
   "source": [
    "# 68. ソート\n",
    "\"dance\"というタグを付与されたアーティストの中でレーティングの投票数が多いアーティスト・トップ10を求めよ．"
   ]
  },
  {
   "cell_type": "code",
   "execution_count": 59,
   "metadata": {},
   "outputs": [
    {
     "name": "stdout",
     "output_type": "stream",
     "text": [
      "SSHäuptling\n",
      "Boy George\n",
      "Toni Basil\n",
      "Milk Inc.\n",
      "digitalTRAFFIC\n",
      "Bag Raiders\n",
      "Syncopaths\n",
      "Kristina Supergenius\n",
      "MaRina\n",
      "Sliptide\n"
     ]
    }
   ],
   "source": [
    "print(\"\\n\".join([a.get(\"name\") for a in collection.find({\"tags.value\":\"dance\"}).sort(\"rating.value\",pymongo.DESCENDING)][:10]))\n"
   ]
  },
  {
   "cell_type": "markdown",
   "metadata": {},
   "source": [
    "# 69. Webアプリケーションの作成\n",
    "ユーザから入力された検索条件に合致するアーティストの情報を表示するWebアプリケーションを作成せよ．アーティスト名，アーティストの別名，タグ等で検索条件を指定し，アーティスト情報のリストをレーティングの高い順などで整列して表示せよ．"
   ]
  },
  {
   "cell_type": "code",
   "execution_count": null,
   "metadata": {},
   "outputs": [],
   "source": []
  }
 ],
 "metadata": {
  "kernelspec": {
   "display_name": "Python 3",
   "language": "python",
   "name": "python3"
  },
  "language_info": {
   "codemirror_mode": {
    "name": "ipython",
    "version": 3
   },
   "file_extension": ".py",
   "mimetype": "text/x-python",
   "name": "python",
   "nbconvert_exporter": "python",
   "pygments_lexer": "ipython3",
   "version": "3.7.3"
  }
 },
 "nbformat": 4,
 "nbformat_minor": 2
}
